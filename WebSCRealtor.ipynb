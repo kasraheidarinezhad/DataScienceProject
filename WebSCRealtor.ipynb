{
  "nbformat": 4,
  "nbformat_minor": 0,
  "metadata": {
    "colab": {
      "provenance": [],
      "authorship_tag": "ABX9TyPjb+YF1q7A3veNSH9MJjLm",
      "include_colab_link": true
    },
    "kernelspec": {
      "name": "python3",
      "display_name": "Python 3"
    },
    "language_info": {
      "name": "python"
    }
  },
  "cells": [
    {
      "cell_type": "markdown",
      "metadata": {
        "id": "view-in-github",
        "colab_type": "text"
      },
      "source": [
        "<a href=\"https://colab.research.google.com/github/kasraheidarinezhad/DataScienceProject/blob/master/WebSCRealtor.ipynb\" target=\"_parent\"><img src=\"https://colab.research.google.com/assets/colab-badge.svg\" alt=\"Open In Colab\"/></a>"
      ]
    },
    {
      "cell_type": "code",
      "source": [],
      "metadata": {
        "id": "8Y-foqUiqgvB"
      },
      "execution_count": null,
      "outputs": []
    },
    {
      "cell_type": "code",
      "source": [
        "import pandas as pd\n",
        "from google.colab import drive\n",
        "import requests\n",
        "import re\n",
        "import json\n",
        "import warnings\n",
        "import time\n",
        "warnings.filterwarnings('ignore')\n",
        "drive.mount('drive', force_remount=True)"
      ],
      "metadata": {
        "colab": {
          "base_uri": "https://localhost:8080/"
        },
        "id": "Xq4sDLqfqnde",
        "outputId": "a66f0176-798c-4606-a137-c619c747fbf1"
      },
      "execution_count": 34,
      "outputs": [
        {
          "output_type": "stream",
          "name": "stderr",
          "text": [
            "/usr/local/lib/python3.8/dist-packages/pandas/core/indexes/interval.py:86: RuntimeWarning: coroutine 'run' was never awaited\n",
            "  from pandas.core.indexes.multi import MultiIndex\n",
            "RuntimeWarning: Enable tracemalloc to get the object allocation traceback\n"
          ]
        },
        {
          "output_type": "stream",
          "name": "stdout",
          "text": [
            "Mounted at drive\n"
          ]
        }
      ]
    },
    {
      "cell_type": "code",
      "source": [
        "class RealtorScraper:\n",
        "    def __init__(self, page_numbers: int) -> None:\n",
        "        self.page_numbers = page_numbers\n",
        "    \n",
        "    def send_request(self, page_number: int, offset_parameter: int) -> dict:\n",
        "\n",
        "        url = \"https://www.realtor.com/api/v1/hulk?client_id=rdc-x&schema=vesta\"\n",
        "        headers = {\"content-type\": \"application/json\"}\n",
        "\n",
        "        body = r'{\"query\":\"\\n\\nquery ConsumerSearchMainQuery($query: HomeSearchCriteria!, $limit: Int, $offset: Int, $sort: [SearchAPISort], $sort_type: SearchSortType,\\\n",
        "                 $client_data: JSON, $geoSupportedSlug: String!, $bucket: SearchAPIBucket, $by_prop_type: [String])\\n{\\n  home_search: home_search(query: $query,\\n \\\n",
        "                 sort: $sort,\\n    limit: $limit,\\n    offset: $offset,\\n    sort_type: $sort_type,\\n    client_data: $client_data,\\n    bucket: $bucket,\\n  )  \\\n",
        "                 {\\n    count\\n    total\\n    results {\\n      property_id\\n      list_price\\n      primary_photo (https: true){\\n        href\\n      }\\n    \\\n",
        "                 source {\\n        id\\n        agents{\\n          office_name\\n        }\\n        type\\n        spec_id\\n        plan_id\\n      }\\n   \\\n",
        "                 community {\\n        property_id\\n        description {\\n          name\\n        }\\n     \\\n",
        "                 advertisers{\\n          office{\\n            hours\\n            phones {\\n              type\\n              number\\n            }\\n          }\\n      \\\n",
        "                 builder {\\n            fulfillment_id\\n          }\\n        }\\n      }\\n      products {\\n        brand_name\\n        products\\n      }\\n    \\\n",
        "                 listing_id\\n      matterport\\n      virtual_tours{\\n        href\\n        type\\n      }\\n      status\\n      permalink\\n      price_reduced_amount\\n   \\\n",
        "                 other_listings{rdc {\\n      listing_id\\n      status\\n      listing_key\\n      primary\\n    }}\\n      description{\\n        beds\\n        baths\\n   \\\n",
        "                 baths_full\\n        baths_half\\n        baths_1qtr\\n        baths_3qtr\\n        garage\\n        stories\\n        type\\n        sub_type\\n     \\\n",
        "                 lot_sqft\\n        sqft\\n        year_built\\n        sold_price\\n        sold_date\\n        name\\n      }\\n      location{\\n        street_view_url\\n    \\\n",
        "                 address{\\n          line\\n          postal_code\\n          state\\n          state_code\\n          city\\n          coordinate {\\n            lat\\n     \\\n",
        "                 lon\\n          }\\n        }\\n        county {\\n          name\\n          fips_code\\n        }\\n      }\\n      tax_record {\\n        public_record_id\\n      }\\n    \\\n",
        "                 lead_attributes {\\n        show_contact_an_agent\\n        opcity_lead_attributes {\\n          cashback_enabled\\n          flip_the_market_enabled\\n        }\\n   \\\n",
        "                 lead_type\\n      }\\n      open_houses {\\n        start_date\\n        end_date\\n        description\\n        methods\\n        time_zone\\n        dst\\n      }\\n   \\\n",
        "                 flags{\\n        is_coming_soon\\n        is_pending\\n        is_foreclosure\\n        is_contingent\\n        is_new_construction\\n        is_new_listing (days: 14)\\n   \\\n",
        "                 is_price_reduced (days: 30)\\n        is_plan\\n        is_subdivision\\n      }\\n      list_date\\n      last_update_date\\n      coming_soon_date\\n   \\\n",
        "                 photos(limit: 2, https: true){\\n        href\\n      }\\n      tags\\n      branding {\\n        type\\n        photo\\n        name\\n      }\\n    }\\n  }\\n \\\n",
        "                 geo(slug_id: $geoSupportedSlug) {\\n    parents {\\n      geo_type\\n      slug_id\\n      name\\n    }\\n    geo_statistics(group_by: property_type) {\\n    \\\n",
        "                 housing_market {\\n        by_prop_type(type: $by_prop_type){\\n          type\\n           attributes{\\n            median_listing_price\\n       \\\n",
        "                 median_lot_size\\n            median_sold_price\\n            median_price_per_sqft\\n            median_days_on_market\\n          }\\n        }\\n   \\\n",
        "                 listing_count\\n        median_listing_price\\n        median_rent_price\\n        median_price_per_sqft\\n        median_days_on_market\\n    \\\n",
        "                 median_sold_price\\n        month_to_month {\\n          active_listing_count_percent_change\\n          median_days_on_market_percent_change\\n    \\\n",
        "                 median_listing_price_percent_change\\n          median_listing_price_sqft_percent_change\\n        }\\n      }\\n    }\\n    recommended_cities: recommended(query: {geo_search_type: city, limit: 20})\\\n",
        "                 {\\n      geos {\\n        ... on City {\\n          city\\n          state_code\\n          geo_type\\n          slug_id\\n        }\\n        geo_statistics(group_by: property_type) \\\n",
        "                 {\\n          housing_market {\\n            by_prop_type(type: [\\\"home\\\"]) {\\n              type\\n              attributes {\\n                median_listing_price\\n              }\\n      \\\n",
        "                 }\\n            median_listing_price\\n          }\\n        }\\n      }\\n    }\\n    recommended_neighborhoods: recommended(query: {geo_search_type: neighborhood, limit: 20})\\\n",
        "                 {\\n      geos {\\n        ... on Neighborhood {\\n          neighborhood\\n          city\\n          state_code\\n          geo_type\\n          slug_id\\n        }\\n      \\\n",
        "                 geo_statistics(group_by: property_type) {\\n          housing_market {\\n            by_prop_type(type: [\\\"home\\\"]) {\\n              type\\n            \\\n",
        "                 attributes {\\n                median_listing_price\\n              }\\n            }\\n            median_listing_price\\n          }\\n        }\\n      }\\n    }\\n   \\\n",
        "                 recommended_counties: recommended(query: {geo_search_type: county, limit: 20}) {\\n      geos {\\n        ... on HomeCounty {\\n          county\\n          state_code\\n    \\\n",
        "                 geo_type\\n          slug_id\\n        }\\n        geo_statistics(group_by: property_type) {\\n          housing_market {\\n            by_prop_type(type: [\\\"home\\\"]) \\\n",
        "                 {\\n              type\\n              attributes {\\n                median_listing_price\\n              }\\n            }\\n            median_listing_price\\n          }\\n        }\\n      }\\n    }\\n  \\\n",
        "                 recommended_zips: recommended(query: {geo_search_type: postal_code, limit: 20}) {\\n      geos {\\n        ... on PostalCode {\\n          postal_code\\n          geo_type\\n          slug_id\\n        }\\n  \\\n",
        "                 geo_statistics(group_by: property_type) {\\n          housing_market {\\n            by_prop_type(type: [\\\"home\\\"]) {\\n              type\\n              attributes {\\n        \\\n",
        "                 median_listing_price\\n              }\\n            }\\n            median_listing_price\\n          }\\n        }\\n      }\\n    }\\n  }\\n}\",\\\n",
        "                 \"variables\":{\"query\":{\"status\":[\"for_sale\",\"ready_to_build\"],\"primary\":true,\"state_code\":\"NY\"},\"client_data\":{\"device_data\":{\"device_type\":\"web\"},\\\n",
        "                 \"user_data\":{\"last_view_timestamp\":-1}},\"limit\":42,\"offset\":42,\"zohoQuery\":{\"silo\":\"search_result_page\",\"location\":\"New York\",\"property_status\":\"for_sale\",\"filters\":{},\"page_index\":\"2\"},\\\n",
        "                 \"sort_type\":\"relevant\",\"geoSupportedSlug\":\"\",\"by_prop_type\":[\"home\"]},\"operationName\":\"ConsumerSearchMainQuery\",\"callfrom\":\"SRP\",\"nrQueryType\":\"MAIN_SRP\",\"visitor_id\":\"eff16470-ceb5-4926-8c0b-6d1779772842\",\\\n",
        "                 \"isClient\":true,\"seoPayload\":{\"asPath\":\"/realestateandhomes-search/New-York/pg-2\",\"pageType\":{\"silo\":\"search_result_page\",\"status\":\"for_sale\"},\"county_needed_for_uniq\":false}}'\n",
        "        json_body = json.loads(body)\n",
        "\n",
        "        json_body[\"variables\"][\"page_index\"] = page_number\n",
        "        json_body[\"seoPayload\"] = page_number\n",
        "        json_body[\"variables\"][\"offset\"] = offset_parameter\n",
        "\n",
        "        r = requests.post(url=url, json=json_body, headers=headers)\n",
        "        json_data = r.json()\n",
        "        return json_data\n",
        "    \n",
        "    def extract_features(self, entry: dict) -> dict:\n",
        "        feature_dict = {\n",
        "            \"id\": entry[\"property_id\"],\n",
        "            \"price\": entry[\"list_price\"],\n",
        "            \"beds\": entry[\"description\"][\"beds\"],\n",
        "            \"baths\": entry[\"description\"][\"baths\"],\n",
        "            \"garage\": entry[\"description\"][\"garage\"],\n",
        "            \"stories\": entry[\"description\"][\"stories\"],\n",
        "            \"house_type\": entry[\"description\"][\"type\"],\n",
        "            \"lot_sqft\": entry[\"description\"][\"lot_sqft\"],\n",
        "            \"sqft\": entry[\"description\"][\"sqft\"],\n",
        "            \"year_built\": entry[\"description\"][\"year_built\"],\n",
        "            \"address\": entry[\"location\"][\"address\"][\"line\"],\n",
        "            \"postal_code\": entry[\"location\"][\"address\"][\"postal_code\"],\n",
        "            \"state\": entry[\"location\"][\"address\"][\"state_code\"],\n",
        "            \"city\": entry[\"location\"][\"address\"][\"city\"],\n",
        "            \"tags\": entry[\"tags\"]\n",
        "        }\n",
        "        \n",
        "        if entry[\"location\"][\"address\"][\"coordinate\"]:\n",
        "            feature_dict.update({\"lat\": entry[\"location\"][\"address\"][\"coordinate\"][\"lat\"]})\n",
        "            feature_dict.update({\"lon\": entry[\"location\"][\"address\"][\"coordinate\"][\"lon\"]})\n",
        "            \n",
        "        if entry[\"location\"][\"county\"]:\n",
        "            feature_dict.update({\"county\": entry[\"location\"][\"county\"][\"name\"]})\n",
        "        \n",
        "        return feature_dict\n",
        "    \n",
        "    def parse_json_data(self) -> list:\n",
        "        offset_parameter = 42\n",
        "        \n",
        "        feature_dict_list = []\n",
        "        \n",
        "        for i in range(1, self.page_numbers):\n",
        "            json_data = self.send_request(page_number=i, offset_parameter=offset_parameter)\n",
        "            offset_parameter += 42\n",
        "            \n",
        "            for entry in json_data[\"data\"][\"home_search\"][\"results\"]:\n",
        "                feature_dict = self.extract_features(entry)\n",
        "                feature_dict_list.append(feature_dict)\n",
        "                \n",
        "        return feature_dict_list\n",
        "    \n",
        "    def create_dataframe(self) -> pd.DataFrame:\n",
        "        feature_dict_list = self.parse_json_data()\n",
        "        \n",
        "        df = pd.DataFrame(feature_dict_list)\n",
        "        dummy_df = pd.get_dummies(df['tags'].explode()).groupby(level=0).sum()\n",
        "        \n",
        "        merged_df = pd.merge(df, dummy_df, left_index=True, right_index=True)\n",
        "        return merged_df\n",
        "    \n",
        "\n",
        "if __name__ == \"__main__\":\n",
        "    r = RealtorScraper(page_numbers=206)\n",
        "    df = r.create_dataframe()"
      ],
      "metadata": {
        "id": "MMEPn0mqqr0s"
      },
      "execution_count": 35,
      "outputs": []
    },
    {
      "cell_type": "code",
      "source": [
        "df.to_csv('zi.csv')\n",
        "!cp zi.csv \"drive/My Drive/\""
      ],
      "metadata": {
        "id": "dbW4_hGsrdKX"
      },
      "execution_count": 37,
      "outputs": []
    }
  ]
}